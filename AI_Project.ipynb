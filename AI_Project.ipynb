{
  "nbformat": 4,
  "nbformat_minor": 0,
  "metadata": {
    "colab": {
      "name": "AI Project.ipynb",
      "provenance": [],
      "collapsed_sections": []
    },
    "kernelspec": {
      "name": "python3",
      "display_name": "Python 3"
    },
    "language_info": {
      "name": "python"
    }
  },
  "cells": [
    {
      "cell_type": "markdown",
      "metadata": {
        "id": "GQ8qSkJmoWKn"
      },
      "source": [
        "Name1 : K Manoj         Regno1 : 18MIS7152\n",
        "Name1 : Neha Chowdary   Regno2 : 19BCE7097"
      ]
    },
    {
      "cell_type": "code",
      "metadata": {
        "colab": {
          "base_uri": "https://localhost:8080/"
        },
        "id": "r03k1cPEnkCh",
        "outputId": "30bdcdd1-1bd3-4381-d8bf-d93ccbff17ca"
      },
      "source": [
        "import pandas as pd\n",
        "\n",
        "#Loading the Data into the Google Colab \n",
        "\n",
        "data_1=pd.read_csv(\"healthcare-dataset-stroke-data.csv\");\n",
        "#Printing the Data \n",
        "print(data_1)\n"
      ],
      "execution_count": null,
      "outputs": [
        {
          "output_type": "stream",
          "text": [
            "         id  gender   age  ...   bmi   smoking_status stroke\n",
            "0      9046    Male  67.0  ...  36.6  formerly smoked      1\n",
            "1     51676  Female  61.0  ...   NaN     never smoked      1\n",
            "2     31112    Male  80.0  ...  32.5     never smoked      1\n",
            "3     60182  Female  49.0  ...  34.4           smokes      1\n",
            "4      1665  Female  79.0  ...  24.0     never smoked      1\n",
            "...     ...     ...   ...  ...   ...              ...    ...\n",
            "5105  18234  Female  80.0  ...   NaN     never smoked      0\n",
            "5106  44873  Female  81.0  ...  40.0     never smoked      0\n",
            "5107  19723  Female  35.0  ...  30.6     never smoked      0\n",
            "5108  37544    Male  51.0  ...  25.6  formerly smoked      0\n",
            "5109  44679  Female  44.0  ...  26.2          Unknown      0\n",
            "\n",
            "[5110 rows x 12 columns]\n"
          ],
          "name": "stdout"
        }
      ]
    },
    {
      "cell_type": "code",
      "metadata": {
        "colab": {
          "base_uri": "https://localhost:8080/"
        },
        "id": "KxsMGctqoKKU",
        "outputId": "e9a68add-e457-4769-b16b-5a68c0ba1451"
      },
      "source": [
        "#To know about number of Rows and Columns \n",
        "print(data_1.shape)\n",
        "\n",
        "#To Know about the Columns \n",
        "\n",
        "print(data_1.columns)\n",
        "\n",
        "#To Know to about Data types in the Columns  \n",
        "\n",
        "print(data_1.info())"
      ],
      "execution_count": null,
      "outputs": [
        {
          "output_type": "stream",
          "text": [
            "(5110, 12)\n",
            "Index(['id', 'gender', 'age', 'hypertension', 'heart_disease', 'ever_married',\n",
            "       'work_type', 'Residence_type', 'avg_glucose_level', 'bmi',\n",
            "       'smoking_status', 'stroke'],\n",
            "      dtype='object')\n",
            "<class 'pandas.core.frame.DataFrame'>\n",
            "RangeIndex: 5110 entries, 0 to 5109\n",
            "Data columns (total 12 columns):\n",
            " #   Column             Non-Null Count  Dtype  \n",
            "---  ------             --------------  -----  \n",
            " 0   id                 5110 non-null   int64  \n",
            " 1   gender             5110 non-null   object \n",
            " 2   age                5110 non-null   float64\n",
            " 3   hypertension       5110 non-null   int64  \n",
            " 4   heart_disease      5110 non-null   int64  \n",
            " 5   ever_married       5110 non-null   object \n",
            " 6   work_type          5110 non-null   object \n",
            " 7   Residence_type     5110 non-null   object \n",
            " 8   avg_glucose_level  5110 non-null   float64\n",
            " 9   bmi                4909 non-null   float64\n",
            " 10  smoking_status     5110 non-null   object \n",
            " 11  stroke             5110 non-null   int64  \n",
            "dtypes: float64(3), int64(4), object(5)\n",
            "memory usage: 479.2+ KB\n",
            "None\n"
          ],
          "name": "stdout"
        }
      ]
    },
    {
      "cell_type": "code",
      "metadata": {
        "colab": {
          "base_uri": "https://localhost:8080/",
          "height": 1000
        },
        "id": "OFmLpxuSqvKK",
        "outputId": "7b931372-c60c-44f1-82ce-438735fa9625"
      },
      "source": [
        "#Graphs based on the Columns \n",
        "\n",
        "import pandas as pd\n",
        "import seaborn as sns\n",
        "import matplotlib.pyplot as plt\n",
        "\n",
        "# To Check count of Male and Female and other\n",
        "sns.countplot(x='gender',data=data_1)\n",
        "plt.show()\n",
        "#To Check the count of Heart Disease in the Data Set \n",
        "\n",
        "sns.countplot(x=\"heart_disease\",data=data_1)\n",
        "plt.show()\n",
        "\n",
        "#To Check number of strokes\n",
        "\n",
        "sns.countplot(x=\"stroke\",data=data_1)\n",
        "plt.show() \n",
        "\n",
        "sns.catplot(x=\"stroke\",y=\"age\",jitter=False,data=data_1)\n"
      ],
      "execution_count": null,
      "outputs": [
        {
          "output_type": "display_data",
          "data": {
            "image/png": "[encoded data removed]",
            "text/plain": [
              "<Figure size 432x288 with 1 Axes>"
            ]
          },
          "metadata": {
            "tags": [],
            "needs_background": "light"
          }
        },
        {
          "output_type": "display_data",
          "data": {
            "image/png": "[encoded data removed]",
            "text/plain": [
              "<Figure size 432x288 with 1 Axes>"
            ]
          },
          "metadata": {
            "tags": [],
            "needs_background": "light"
          }
        },
        {
          "output_type": "display_data",
          "data": {
            "image/png": "[encoded data removed]",
            "text/plain": [
              "<Figure size 432x288 with 1 Axes>"
            ]
          },
          "metadata": {
            "tags": [],
            "needs_background": "light"
          }
        },
        {
          "output_type": "execute_result",
          "data": {
            "text/plain": [
              "<seaborn.axisgrid.FacetGrid at 0x7f1855bdfe90>"
            ]
          },
          "metadata": {
            "tags": []
          },
          "execution_count": 12
        },
        {
          "output_type": "display_data",
          "data": {
            "image/png": "[encoded data removed]",
            "text/plain": [
              "<Figure size 360x360 with 1 Axes>"
            ]
          },
          "metadata": {
            "tags": [],
            "needs_background": "light"
          }
        }
      ]
    },
    {
      "cell_type": "code",
      "metadata": {
        "colab": {
          "base_uri": "https://localhost:8080/",
          "height": 287
        },
        "id": "ghAL51jaqylR",
        "outputId": "9bd4315c-78c2-4d08-8de3-6ed4e34a616b"
      },
      "source": [
        "data_1.head()\n",
        "\n",
        "#Converting the String values to numeric value because the Algorithms can give better prediction than String Value \n",
        "\n",
        "#The String Columns that are avalible are Gender Column, Ever_Married Column, work_type Column,Residence_type Column, Somking_Status Colmun\n",
        "\n",
        "print(data_1[\"gender\"].unique())\n",
        "\n",
        "data_1[\"gender\"]=data_1[\"gender\"].replace([\"Male\",\"Female\",\"Other\"],[1,2,3])\n",
        "\n",
        "print(data_1[\"ever_married\"].unique())\n",
        "\n",
        "data_1[\"ever_married\"]=data_1[\"ever_married\"].replace([\"Yes\",\"No\"],[1,2])\n",
        "\n",
        "\n",
        "print(data_1[\"work_type\"].unique())\n",
        "\n",
        "data_1[\"work_type\"]=data_1[\"work_type\"].replace([\"Private\",\"Self-employed\",\"Govt_job\",\"children\",\"Never_worked\"],[1,2,3,4,5])\n",
        "\n",
        "print(data_1[\"Residence_type\"].unique())\n",
        "\n",
        "data_1[\"Residence_type\"]=data_1[\"Residence_type\"].replace([\"Urban\",\"Rural\"],[1,2])\n",
        "\n",
        "print(data_1[\"smoking_status\"].unique())\n",
        "\n",
        "data_1[\"smoking_status\"]=data_1[\"smoking_status\"].replace([\"formerly smoked\",\"never smoked\",\"smokes\",\"Unknown\"],[1,2,3,4])\n",
        "\n",
        "#After replacing String values with numeric values \n",
        "\n",
        "data_1.head()"
      ],
      "execution_count": null,
      "outputs": [
        {
          "output_type": "stream",
          "text": [
            "['Male' 'Female' 'Other']\n",
            "['Yes' 'No']\n",
            "['Private' 'Self-employed' 'Govt_job' 'children' 'Never_worked']\n",
            "['Urban' 'Rural']\n",
            "['formerly smoked' 'never smoked' 'smokes' 'Unknown']\n"
          ],
          "name": "stdout"
        },
        {
          "output_type": "execute_result",
          "data": {
            "text/html": [
              "<div>\n",
              "<style scoped>\n",
              "    .dataframe tbody tr th:only-of-type {\n",
              "        vertical-align: middle;\n",
              "    }\n",
              "\n",
              "    .dataframe tbody tr th {\n",
              "        vertical-align: top;\n",
              "    }\n",
              "\n",
              "    .dataframe thead th {\n",
              "        text-align: right;\n",
              "    }\n",
              "</style>\n",
              "<table border=\"1\" class=\"dataframe\">\n",
              "  <thead>\n",
              "    <tr style=\"text-align: right;\">\n",
              "      <th></th>\n",
              "      <th>id</th>\n",
              "      <th>gender</th>\n",
              "      <th>age</th>\n",
              "      <th>hypertension</th>\n",
              "      <th>heart_disease</th>\n",
              "      <th>ever_married</th>\n",
              "      <th>work_type</th>\n",
              "      <th>Residence_type</th>\n",
              "      <th>avg_glucose_level</th>\n",
              "      <th>bmi</th>\n",
              "      <th>smoking_status</th>\n",
              "      <th>stroke</th>\n",
              "    </tr>\n",
              "  </thead>\n",
              "  <tbody>\n",
              "    <tr>\n",
              "      <th>0</th>\n",
              "      <td>9046</td>\n",
              "      <td>1</td>\n",
              "      <td>67.0</td>\n",
              "      <td>0</td>\n",
              "      <td>1</td>\n",
              "      <td>1</td>\n",
              "      <td>1</td>\n",
              "      <td>1</td>\n",
              "      <td>228.69</td>\n",
              "      <td>36.6</td>\n",
              "      <td>1</td>\n",
              "      <td>1</td>\n",
              "    </tr>\n",
              "    <tr>\n",
              "      <th>1</th>\n",
              "      <td>51676</td>\n",
              "      <td>2</td>\n",
              "      <td>61.0</td>\n",
              "      <td>0</td>\n",
              "      <td>0</td>\n",
              "      <td>1</td>\n",
              "      <td>2</td>\n",
              "      <td>2</td>\n",
              "      <td>202.21</td>\n",
              "      <td>NaN</td>\n",
              "      <td>2</td>\n",
              "      <td>1</td>\n",
              "    </tr>\n",
              "    <tr>\n",
              "      <th>2</th>\n",
              "      <td>31112</td>\n",
              "      <td>1</td>\n",
              "      <td>80.0</td>\n",
              "      <td>0</td>\n",
              "      <td>1</td>\n",
              "      <td>1</td>\n",
              "      <td>1</td>\n",
              "      <td>2</td>\n",
              "      <td>105.92</td>\n",
              "      <td>32.5</td>\n",
              "      <td>2</td>\n",
              "      <td>1</td>\n",
              "    </tr>\n",
              "    <tr>\n",
              "      <th>3</th>\n",
              "      <td>60182</td>\n",
              "      <td>2</td>\n",
              "      <td>49.0</td>\n",
              "      <td>0</td>\n",
              "      <td>0</td>\n",
              "      <td>1</td>\n",
              "      <td>1</td>\n",
              "      <td>1</td>\n",
              "      <td>171.23</td>\n",
              "      <td>34.4</td>\n",
              "      <td>3</td>\n",
              "      <td>1</td>\n",
              "    </tr>\n",
              "    <tr>\n",
              "      <th>4</th>\n",
              "      <td>1665</td>\n",
              "      <td>2</td>\n",
              "      <td>79.0</td>\n",
              "      <td>1</td>\n",
              "      <td>0</td>\n",
              "      <td>1</td>\n",
              "      <td>2</td>\n",
              "      <td>2</td>\n",
              "      <td>174.12</td>\n",
              "      <td>24.0</td>\n",
              "      <td>2</td>\n",
              "      <td>1</td>\n",
              "    </tr>\n",
              "  </tbody>\n",
              "</table>\n",
              "</div>"
            ],
            "text/plain": [
              "      id  gender   age  ...   bmi  smoking_status  stroke\n",
              "0   9046       1  67.0  ...  36.6               1       1\n",
              "1  51676       2  61.0  ...   NaN               2       1\n",
              "2  31112       1  80.0  ...  32.5               2       1\n",
              "3  60182       2  49.0  ...  34.4               3       1\n",
              "4   1665       2  79.0  ...  24.0               2       1\n",
              "\n",
              "[5 rows x 12 columns]"
            ]
          },
          "metadata": {
            "tags": []
          },
          "execution_count": 13
        }
      ]
    },
    {
      "cell_type": "code",
      "metadata": {
        "id": "XQ4i9GZm4xKb"
      },
      "source": [
        "#Applying Decision Tree\n",
        "\n",
        "from sklearn.tree import DecisionTreeClassifier\n",
        "from sklearn import metrics\n",
        "import numpy as np\n",
        "from sklearn.metrics import roc_auc_score\n",
        "from sklearn.metrics import average_precision_score\n",
        "from sklearn.metrics import classification_report,confusion_matrix\n",
        "def func1(X_train,X_test,y_train,y_test):\n",
        "      clf=DecisionTreeClassifier()\n",
        "      clf=clf.fit(X_train,y_train)\n",
        "      y_pre_1=clf.predict(X_test)\n",
        "      print(\"Decision Tree Algorithm \")\n",
        "      print(\"Accuracy :\",metrics.accuracy_score(y_test,y_pre_1))\n",
        "      rmse=np.sqrt(mean_squared_error(y_test,y_pre_1))\n",
        "      #print(\"RMSE Value :%f\"%(rmse))\n",
        "      #print(\"Confusion Matrix :\",confusion_matrix(y_test,y_pre_1))\n",
        "      #print(\"ROC And AUC :\",roc_auc_score(y_test,y_pre_1))\n",
        "      #print(\"Precision Score :\",average_precision_score(y_test,y_pre_1))\n",
        "      \n",
        "      "
      ],
      "execution_count": null,
      "outputs": []
    },
    {
      "cell_type": "code",
      "metadata": {
        "id": "Q-1LI5FOlWHd"
      },
      "source": [
        "#Applying Random Forest\n",
        "\n",
        "from sklearn.ensemble import RandomForestClassifier\n",
        "from sklearn import metrics\n",
        "from sklearn.metrics import classification_report,confusion_matrix\n",
        "import numpy as np\n",
        "from sklearn.metrics import average_precision_score\n",
        "from sklearn.metrics import roc_auc_score\n",
        "\n",
        "def func2(X_train,X_test,y_train,y_test):\n",
        "        clf=RandomForestClassifier(n_estimators=1000)\n",
        "        clf.fit(X_train,y_train)\n",
        "        y_pre_2=clf.predict(X_test)\n",
        "        print(\"RadomForest Algorithm \")\n",
        "        print(\"Accuracy :\",metrics.accuracy_score(y_test,y_pre_2))\n",
        "        rmse=np.sqrt(mean_squared_error(y_test,y_pre_2))\n",
        "        #print(\"RMSE Value :%f\"%(rmse))\n",
        "        \n",
        "        #print(\"Confusion Matrix :\",confusion_matrix(y_test,y_pre_2))\n",
        "        #print(\"ROC And AUC :\",roc_auc_score(y_test,y_pre_2))\n",
        "        #print(\"Precision Score:\",average_precision_score(y_test,y_pre_2))\n",
        "        \n",
        "        "
      ],
      "execution_count": null,
      "outputs": []
    },
    {
      "cell_type": "code",
      "metadata": {
        "id": "Re3RDcW8m9ZN"
      },
      "source": [
        "#Applying KNN Algorithm\n",
        "\n",
        "from sklearn.neighbors import KNeighborsClassifier\n",
        "from sklearn.metrics import mean_squared_error\n",
        "from sklearn import metrics\n",
        "from sklearn.metrics import classification_report,confusion_matrix\n",
        "\n",
        "def func3(X_train,X_test,y_train,y_test):\n",
        "       classifier=KNeighborsClassifier(n_neighbors=335)\n",
        "       classifier.fit(X_train,y_train)\n",
        "       y_pre_2=classifier.predict(X_test)\n",
        "       print(\"KNN Algorithm \")\n",
        "       print(\"Accuracy :\",classification_report(y_test,y_pre_2))\n",
        "       rmse=np.sqrt(mean_squared_error(y_test,y_pre_2))\n",
        "       #print(\"RMSE Value :%f\"%(rmse))\n",
        "      # print(\"Accuracy in percent :\",metrics.accuracy_score(y_test,y_pre_2))\n",
        "      # print(\"Confusion Matrix \",confusion_matrix(y_test,y_pre_2))\n",
        "      \n",
        "\n"
      ],
      "execution_count": null,
      "outputs": []
    },
    {
      "cell_type": "code",
      "metadata": {
        "id": "ScHrri88oDAJ"
      },
      "source": [
        "#Navie Bayes Algorithm \n",
        "\n",
        "from sklearn.naive_bayes import GaussianNB\n",
        "from sklearn import metrics\n",
        "from sklearn.metrics import classification_report,confusion_matrix\n",
        "import numpy as np\n",
        "from sklearn.metrics import average_precision_score\n",
        "from sklearn.metrics import roc_auc_score\n",
        "\n",
        "def func4(X_train,X_test,y_train,y_test):\n",
        "      model=GaussianNB()\n",
        "      model.fit(X_train,y_train)\n",
        "      y_pre_4=model.predict(X_test)\n",
        "      print(\"Navie Bayes Algorithm \")\n",
        "      print(\"Accuracy :\",metrics.accuracy_score(y_test,y_pre_4))\n",
        "      rmse=np.sqrt(mean_squared_error(y_test,y_pre_4))\n",
        "      #print(\"RMSE Value :%f\"%(rmse))\n",
        "      #print(\"Confusion Matrix :\",confusion_matrix(y_test,y_pre_4))\n",
        "      #print(\"ROC And AUC :\",roc_auc_score(y_test,y_pre_4))\n",
        "      #print(\"Precision Value :\",average_precision_score(y_test,y_pre_4))\n",
        "      "
      ],
      "execution_count": null,
      "outputs": []
    },
    {
      "cell_type": "markdown",
      "metadata": {
        "id": "_LPHzAgZp9Li"
      },
      "source": [
        "** Applying Pre-Processing Techniques **\n",
        "\n"
      ]
    },
    {
      "cell_type": "code",
      "metadata": {
        "colab": {
          "base_uri": "https://localhost:8080/",
          "height": 1000
        },
        "id": "3N1Juo9zo79R",
        "outputId": "1182ec64-4cd0-41d6-e677-d880524cb078"
      },
      "source": [
        "#Pre-Processing Technique-1 \n",
        "\n",
        "data_2_pre=data_1\n",
        "\n",
        "#First and foremost thing is to find about the Missing Values\n",
        "\n",
        "print(data_2_pre.isna().sum())\n",
        "\n",
        "#We are having missing values only in the bmi Columns so, we need to handle them \n",
        "\n",
        "print(data_2_pre[\"bmi\"])\n",
        "\n",
        "#bmi Column is a Float Data Type \n",
        "\n",
        "#Dropping the Missing Values \n",
        "\n",
        "data_2_pre=data_2_pre.dropna()\n",
        "\n",
        "#Missing values are dropped to check the Missing value are present are not \n",
        "\n",
        "print(data_2_pre[\"bmi\"].isna().sum())\n",
        "\n",
        "#Applying One-Hot Encoding on gender Column\n",
        "\n",
        "data_2_pre=pd.get_dummies(columns=[\"gender\"],data=data_2_pre)\n",
        "\n",
        "#Checking whether it has done (or) not\n",
        "\n",
        "#data_2_pre.head()\n",
        "import seaborn as sns \n",
        "import matplotlib.pyplot as plt\n",
        "from scipy import stats\n",
        "import numpy as np\n",
        " \n",
        "#Outliers for avg_glucose_level column\n",
        "\n",
        "data_2_pre[\"avg_glucose_level\"]=np.abs(stats.zscore(data_2_pre[\"avg_glucose_level\"]))\n",
        "\n",
        "#Checking \n",
        "print(data_2_pre[\"avg_glucose_level\"])\n",
        "\n",
        "sns.boxplot(x=data_2_pre[\"avg_glucose_level\"])\n",
        "\n",
        "#Dropping the outliers in av_glucose_level\n",
        "\n",
        "data_2_pre=data_2_pre[data_2_pre[\"avg_glucose_level\"]>=1.9]\n",
        "\n",
        "#After removing the outliers in avg_glucose_level column\n",
        "\n",
        "sns.boxplot(x=data_2_pre[\"avg_glucose_level\"])\n",
        "\n",
        "\n",
        "from sklearn.model_selection import train_test_split\n",
        "\n",
        "X=data_2_pre.drop(columns=[\"id\",\"stroke\"])\n",
        "y=data_2_pre[\"stroke\"]\n",
        "\n",
        "X_train,X_test,y_train,y_test=train_test_split(X,y,test_size=0.30)\n",
        "\n",
        "data_2_pre[\"work_type\"].unique()\n",
        "func1(X_train,X_test,y_train,y_test)\n",
        "func2(X_train,X_test,y_train,y_test)\n",
        "func3(X_train,X_test,y_train,y_test)\n",
        "func4(X_train,X_test,y_train,y_test)\n"
      ],
      "execution_count": null,
      "outputs": [
        {
          "output_type": "stream",
          "text": [
            "id                     0\n",
            "gender                 0\n",
            "age                    0\n",
            "hypertension           0\n",
            "heart_disease          0\n",
            "ever_married           0\n",
            "work_type              0\n",
            "Residence_type         0\n",
            "avg_glucose_level      0\n",
            "bmi                  201\n",
            "smoking_status         0\n",
            "stroke                 0\n",
            "dtype: int64\n",
            "0       36.6\n",
            "1        NaN\n",
            "2       32.5\n",
            "3       34.4\n",
            "4       24.0\n",
            "        ... \n",
            "5105     NaN\n",
            "5106    40.0\n",
            "5107    30.6\n",
            "5108    25.6\n",
            "5109    26.2\n",
            "Name: bmi, Length: 5110, dtype: float64\n",
            "0\n",
            "0       2.777698\n",
            "2       0.013842\n",
            "3       1.484132\n",
            "4       1.549193\n",
            "5       1.821368\n",
            "          ...   \n",
            "5104    0.050094\n",
            "5106    0.447882\n",
            "5107    0.502369\n",
            "5108    1.372920\n",
            "5109    0.450816\n",
            "Name: avg_glucose_level, Length: 4909, dtype: float64\n",
            "Decision Tree Algorithm \n",
            "Accuracy : 0.7986111111111112\n",
            "RadomForest Algorithm \n",
            "Accuracy : 0.9027777777777778\n",
            "KNN Algorithm \n",
            "Accuracy :               precision    recall  f1-score   support\n",
            "\n",
            "           0       0.90      1.00      0.95       130\n",
            "           1       0.00      0.00      0.00        14\n",
            "\n",
            "    accuracy                           0.90       144\n",
            "   macro avg       0.45      0.50      0.47       144\n",
            "weighted avg       0.82      0.90      0.86       144\n",
            "\n",
            "Navie Bayes Algorithm \n",
            "Accuracy : 0.875\n"
          ],
          "name": "stdout"
        },
        {
          "output_type": "stream",
          "text": [
            "/usr/local/lib/python3.7/dist-packages/sklearn/metrics/_classification.py:1272: UndefinedMetricWarning: Precision and F-score are ill-defined and being set to 0.0 in labels with no predicted samples. Use `zero_division` parameter to control this behavior.\n",
            "  _warn_prf(average, modifier, msg_start, len(result))\n"
          ],
          "name": "stderr"
        },
        {
          "output_type": "display_data",
          "data": {
            "image/png": "[encoded data removed]",
            "text/plain": [
              "<Figure size 432x288 with 1 Axes>"
            ]
          },
          "metadata": {
            "tags": [],
            "needs_background": "light"
          }
        }
      ]
    },
    {
      "cell_type": "code",
      "metadata": {
        "colab": {
          "base_uri": "https://localhost:8080/",
          "height": 1000
        },
        "id": "3QNF4BVNv_0I",
        "outputId": "bd9c32ac-7c6a-4aa8-a6ac-b05f7f4f11b0"
      },
      "source": [
        "\n",
        "data_3=data_1\n",
        "\n",
        "#print(data_3['id'].unique())\n",
        "#Since ID cloumn has more unique values we are removing that column \n",
        "\n",
        "#data_3=data_3.drop('id',axis='columns',inplace=True)\n",
        "\n",
        "\n",
        "#Applying One-Hot Encoding on both Hypertension and HearDisease Column \n",
        "\n",
        "data_3=pd.get_dummies(columns=[\"hypertension\",\"heart_disease\"],data=data_3 )\n",
        "\n",
        "#Checking whether One Hot Encoding is done (or) not \n",
        "\n",
        "print(data_3.info())\n",
        "\n",
        "#Handling Missing value in bmi Column \n",
        "\n",
        "print(data_3[\"bmi\"].isna().sum())\n",
        "\n",
        "#Filling missing values with ffill\n",
        "\n",
        "data_3[\"bmi\"]=data_3[\"bmi\"].fillna(method=\"ffill\")\n",
        "\n",
        "#print(data_3[\"bmi\"].isna().sum())\n",
        "\n",
        "#avg_glucose_level column\n",
        "\n",
        "print(data_3[\"avg_glucose_level\"].unique())\n",
        "\n",
        "print(data_3[\"avg_glucose_level\"].skew())\n",
        "data_3[\"avg_glucose_level\"].describe()\n",
        "\n",
        "#Checking Outliers using boxplot \n",
        "import seaborn as sns\n",
        "import matplotlib.pyplot as plt\n",
        "#sns.boxplot(data_3[\"avg_glucose_level\"])\n",
        "#plt.show()\n",
        "\n",
        "#Applying Z-Score Normalization \n",
        "from scipy import stats\n",
        "import numpy as np\n",
        "data_3[\"avg_glucose_level\"]=np.abs(stats.zscore(data_3[\"avg_glucose_level\"]))\n",
        "\n",
        "print(np.where(data_3[\"avg_glucose_level\"]>3))\n",
        "#sns.boxplot(z)\n",
        "#plt.show()\n",
        "\n",
        "#After Applying also Z-score normalization also outliers are present so, we are removing the outliers based on box plot\n",
        "\n",
        "indexs=data_3[data_3[\"avg_glucose_level\"]>2].index\n",
        "\n",
        "data_3.drop(indexs,inplace=True)\n",
        "\n",
        "#sns.boxplot(data_3[\"avg_glucose_level\"])\n",
        "#plt.show()\n",
        "\n",
        "\n",
        "#Now finding the outliers in the bmi columns \n",
        "Q1 = data_3[\"bmi\"].quantile(0.25)\n",
        "Q3 = data_3[\"bmi\"].quantile(0.75)\n",
        "IQR = Q3 - Q1\n",
        "print(IQR)\n",
        "data_3 = data_3[~((data_3[\"bmi\"] < (Q1 - 1.5 * IQR)) |(data_3[\"bmi\"] > (Q3 + 1.5 * IQR)))]\n",
        "#print(data_3.info())\n",
        "\n",
        "sns.boxplot(data_3[\"bmi\"])\n",
        "plt.show()\n",
        "\n",
        "\n",
        "#Now dividing into training and testing \n",
        "\n",
        "X=data_3.drop(columns=[\"stroke\"])\n",
        "y=data_3[\"stroke\"]\n",
        "\n",
        "\n",
        "from sklearn.model_selection import train_test_split\n",
        "X_train,X_test,y_train,y_test=train_test_split(X,y,test_size=0.20)\n",
        "\n",
        "func1(X_train,X_test,y_train,y_test)\n",
        "func2(X_train,X_test,y_train,y_test)\n",
        "func3(X_train,X_test,y_train,y_test)\n",
        "func4(X_train,X_test,y_train,y_test)"
      ],
      "execution_count": null,
      "outputs": [
        {
          "output_type": "stream",
          "text": [
            "<class 'pandas.core.frame.DataFrame'>\n",
            "RangeIndex: 5110 entries, 0 to 5109\n",
            "Data columns (total 13 columns):\n",
            " #   Column             Non-Null Count  Dtype  \n",
            "---  ------             --------------  -----  \n",
            " 0   gender             5110 non-null   int64  \n",
            " 1   age                5110 non-null   float64\n",
            " 2   ever_married       5110 non-null   int64  \n",
            " 3   work_type          5110 non-null   int64  \n",
            " 4   Residence_type     5110 non-null   int64  \n",
            " 5   avg_glucose_level  5110 non-null   float64\n",
            " 6   bmi                4909 non-null   float64\n",
            " 7   smoking_status     5110 non-null   int64  \n",
            " 8   stroke             5110 non-null   int64  \n",
            " 9   hypertension_0     5110 non-null   uint8  \n",
            " 10  hypertension_1     5110 non-null   uint8  \n",
            " 11  heart_disease_0    5110 non-null   uint8  \n",
            " 12  heart_disease_1    5110 non-null   uint8  \n",
            "dtypes: float64(3), int64(6), uint8(4)\n",
            "memory usage: 379.4 KB\n",
            "None\n",
            "201\n",
            "[228.69 202.21 105.92 ...  82.99 166.29  85.28]\n",
            "1.5722838665030459\n",
            "(array([  33,   45,  122,  123,  135,  193,  196,  220,  243,  256,  303,\n",
            "        330,  386,  552,  755,  785, 1067, 1070, 1113, 1207, 1384, 1436,\n",
            "       1453, 1529, 1626, 2182, 2203, 2293, 2462, 2494, 2633, 2693, 2751,\n",
            "       3088, 3215, 3342, 3393, 4048, 4249, 4283, 4356, 4447, 4457, 4470,\n",
            "       4598, 4711, 4909, 4983, 5034]),)\n",
            "9.249999999999996\n"
          ],
          "name": "stdout"
        },
        {
          "output_type": "stream",
          "text": [
            "/usr/local/lib/python3.7/dist-packages/seaborn/_decorators.py:43: FutureWarning: Pass the following variable as a keyword arg: x. From version 0.12, the only valid positional argument will be `data`, and passing other arguments without an explicit keyword will result in an error or misinterpretation.\n",
            "  FutureWarning\n"
          ],
          "name": "stderr"
        },
        {
          "output_type": "display_data",
          "data": {
            "image/png": "[encoded data removed]",
            "text/plain": [
              "<Figure size 432x288 with 1 Axes>"
            ]
          },
          "metadata": {
            "tags": [],
            "needs_background": "light"
          }
        },
        {
          "output_type": "stream",
          "text": [
            "Decision Tree Algorithm \n",
            "Accuracy : 0.9218061674008811\n",
            "RadomForest Algorithm \n",
            "Accuracy : 0.9636563876651982\n",
            "KNN Algorithm \n",
            "Accuracy :               precision    recall  f1-score   support\n",
            "\n",
            "           0       0.96      1.00      0.98       875\n",
            "           1       0.00      0.00      0.00        33\n",
            "\n",
            "    accuracy                           0.96       908\n",
            "   macro avg       0.48      0.50      0.49       908\n",
            "weighted avg       0.93      0.96      0.95       908\n",
            "\n",
            "Navie Bayes Algorithm \n",
            "Accuracy : 0.8876651982378855\n"
          ],
          "name": "stdout"
        },
        {
          "output_type": "stream",
          "text": [
            "/usr/local/lib/python3.7/dist-packages/sklearn/metrics/_classification.py:1272: UndefinedMetricWarning: Precision and F-score are ill-defined and being set to 0.0 in labels with no predicted samples. Use `zero_division` parameter to control this behavior.\n",
            "  _warn_prf(average, modifier, msg_start, len(result))\n"
          ],
          "name": "stderr"
        }
      ]
    },
    {
      "cell_type": "code",
      "metadata": {
        "colab": {
          "base_uri": "https://localhost:8080/",
          "height": 702
        },
        "id": "mqnsbx-zGm7g",
        "outputId": "632bab6c-5b30-47c7-e1ca-c0b1001aca5e"
      },
      "source": [
        "#Rought work\n",
        "import seaborn as sns\n",
        "import matplotlib.pyplot as plt\n",
        "\n",
        "#Option-1 using z-score normalization \n",
        "from scipy import stats\n",
        "import numpy as np\n",
        "#z=np.abs(stats.zscore(data_3[\"avg_glucose_level\"]))\n",
        "#print(z)\n",
        "#print(np.where(z>3))\n",
        "#sns.boxplot(z)\n",
        "#plt.show()\n",
        "\n",
        "#sns.boxplot(data_3[\"bmi\"])\n",
        "#plt.show()\n",
        "Q1 = data_3[\"bmi\"].quantile(0.25)\n",
        "Q3 = data_3[\"bmi\"].quantile(0.75)\n",
        "IQR = Q3 - Q1\n",
        "print(IQR)\n",
        "df_out = data_3[~((data_3[\"bmi\"] < (Q1 - 1.5 * IQR)) |(data_3[\"bmi\"] > (Q3 + 1.5 * IQR)))]\n",
        "print(df_out.info())\n",
        "\n",
        "sns.boxplot(df_out[\"bmi\"])\n",
        "plt.show()\n"
      ],
      "execution_count": null,
      "outputs": [
        {
          "output_type": "stream",
          "text": [
            "9.249999999999996\n",
            "<class 'pandas.core.frame.DataFrame'>\n",
            "Int64Index: 4540 entries, 2 to 5109\n",
            "Data columns (total 13 columns):\n",
            " #   Column             Non-Null Count  Dtype  \n",
            "---  ------             --------------  -----  \n",
            " 0   gender             4540 non-null   int64  \n",
            " 1   age                4540 non-null   float64\n",
            " 2   ever_married       4540 non-null   int64  \n",
            " 3   work_type          4540 non-null   int64  \n",
            " 4   Residence_type     4540 non-null   int64  \n",
            " 5   avg_glucose_level  4540 non-null   float64\n",
            " 6   bmi                4540 non-null   float64\n",
            " 7   smoking_status     4540 non-null   int64  \n",
            " 8   stroke             4540 non-null   int64  \n",
            " 9   hypertension_0     4540 non-null   uint8  \n",
            " 10  hypertension_1     4540 non-null   uint8  \n",
            " 11  heart_disease_0    4540 non-null   uint8  \n",
            " 12  heart_disease_1    4540 non-null   uint8  \n",
            "dtypes: float64(3), int64(6), uint8(4)\n",
            "memory usage: 372.4 KB\n",
            "None\n"
          ],
          "name": "stdout"
        },
        {
          "output_type": "stream",
          "text": [
            "/usr/local/lib/python3.7/dist-packages/seaborn/_decorators.py:43: FutureWarning: Pass the following variable as a keyword arg: x. From version 0.12, the only valid positional argument will be `data`, and passing other arguments without an explicit keyword will result in an error or misinterpretation.\n",
            "  FutureWarning\n"
          ],
          "name": "stderr"
        },
        {
          "output_type": "display_data",
          "data": {
            "image/png": "[encoded data removed]",
            "text/plain": [
              "<Figure size 432x288 with 1 Axes>"
            ]
          },
          "metadata": {
            "tags": [],
            "needs_background": "light"
          }
        }
      ]
    }
  ]
}